{
 "cells": [
  {
   "cell_type": "markdown",
   "metadata": {},
   "source": [
    "# Value Iteration in a grid world"
   ]
  },
  {
   "cell_type": "markdown",
   "metadata": {},
   "source": [
    "### Import necessary libraries"
   ]
  },
  {
   "cell_type": "code",
   "execution_count": 22,
   "metadata": {},
   "outputs": [],
   "source": [
    "import numpy as np\n",
    "import json, operator"
   ]
  },
  {
   "cell_type": "markdown",
   "metadata": {},
   "source": [
    "### Set default parameters and initialize variables"
   ]
  },
  {
   "cell_type": "code",
   "execution_count": 32,
   "metadata": {},
   "outputs": [],
   "source": [
    "size_x = 4\n",
    "size_y = 3\n",
    "step_cost = -0.04\n",
    "gamma = 0.5\n",
    "prob_success = 0.8\n",
    "prob_fail = (1 - prob_success) / 2\n",
    "convergence = 0.0001\n",
    "reward_delta = convergence * 2\n",
    "\n",
    "world_print = [[0 for x in range(size_x)] for y in range(size_y)] \n",
    "world_access = [[0 for x in range(size_x)] for y in range(size_y)]  \n",
    "world_reward = [[0 for x in range(size_x)] for y in range(size_y)]"
   ]
  },
  {
   "cell_type": "markdown",
   "metadata": {},
   "source": [
    "### Helpfunctions for printing the world"
   ]
  },
  {
   "cell_type": "code",
   "execution_count": 24,
   "metadata": {},
   "outputs": [],
   "source": [
    "def printRow(arr,y,length):\n",
    "    print(\"|\",end=\"\")\n",
    "    for elem in arr[y]:\n",
    "        if(type(elem)==type('X')):\n",
    "            print(str(elem).center(length),end=\"\")\n",
    "        else:\n",
    "            print(str(format(elem,\".4f\")).center(length),end=\"\")\n",
    "        print(\"|\",end=\"\")\n",
    "    print(end=\"\\n\")\n",
    "    \n",
    "\n",
    "def printSpace(width, length):\n",
    "    print(\"+\"+str(\"\").center(length,\"-\")+\"+\",end=\"\")\n",
    "    for w in range(width-2):\n",
    "        print(str(\"\").center(length,\"-\")+\"+\",end=\"\")\n",
    "    print(str(\"\").center(length,\"-\")+\"+\")\n",
    "    \n",
    "    \n",
    "def printWorld(world):\n",
    "    i=0\n",
    "    for h in range(len(world)*2+1):\n",
    "        if(h%2==1):\n",
    "            printRow(world,i,len(world[0])*2)\n",
    "            i+=1\n",
    "        else:\n",
    "            printSpace(len(world[0]), len(world[0])*2)"
   ]
  },
  {
   "cell_type": "markdown",
   "metadata": {},
   "source": [
    "### Import grid world information from JSON file"
   ]
  },
  {
   "cell_type": "code",
   "execution_count": 25,
   "metadata": {
    "scrolled": false
   },
   "outputs": [
    {
     "name": "stdout",
     "output_type": "stream",
     "text": [
      "JSON file content\n",
      "{'world': [{'row': [{'cell': ['_', 0, 0]}, {'cell': ['_', 0, 0]}, {'cell': ['_', 0, 0]}, {'cell': ['G', 1, 1]}]}, {'row': [{'cell': ['_', 0, 0]}, {'cell': ['#', -1, 0]}, {'cell': ['_', 0, 0]}, {'cell': ['T', 1, -1]}]}, {'row': [{'cell': ['_', 0, 0]}, {'cell': ['_', 0, 0]}, {'cell': ['_', 0, 0]}, {'cell': ['_', 0, 0]}]}]}\n"
     ]
    }
   ],
   "source": [
    "def readJson():\n",
    "    with open('world.json') as json_data:\n",
    "        d = json.load(json_data)\n",
    "        print(\"JSON file content\")\n",
    "        print(d)\n",
    "        return d\n",
    "       \n",
    "        \n",
    "json_data = readJson() "
   ]
  },
  {
   "cell_type": "markdown",
   "metadata": {},
   "source": [
    "### Distribute grid world information to corresponding variables"
   ]
  },
  {
   "cell_type": "code",
   "execution_count": 33,
   "metadata": {},
   "outputs": [
    {
     "name": "stdout",
     "output_type": "stream",
     "text": [
      "World\n",
      "+--------+--------+--------+--------+\n",
      "|   _    |   _    |   _    |   G    |\n",
      "+--------+--------+--------+--------+\n",
      "|   _    |   #    |   _    |   T    |\n",
      "+--------+--------+--------+--------+\n",
      "|   _    |   _    |   _    |   _    |\n",
      "+--------+--------+--------+--------+\n",
      "Accessibility\n",
      "+--------+--------+--------+--------+\n",
      "|  0.00  |  0.00  |  0.00  |  1.00  |\n",
      "+--------+--------+--------+--------+\n",
      "|  0.00  | -1.00  |  0.00  |  1.00  |\n",
      "+--------+--------+--------+--------+\n",
      "|  0.00  |  0.00  |  0.00  |  0.00  |\n",
      "+--------+--------+--------+--------+\n",
      "Default rewards\n",
      "+--------+--------+--------+--------+\n",
      "|  0.00  |  0.00  |  0.00  |  1.00  |\n",
      "+--------+--------+--------+--------+\n",
      "|  0.00  |  0.00  |  0.00  | -1.00  |\n",
      "+--------+--------+--------+--------+\n",
      "|  0.00  |  0.00  |  0.00  |  0.00  |\n",
      "+--------+--------+--------+--------+\n"
     ]
    }
   ],
   "source": [
    "def initializeWorld(json_data):\n",
    "    global world_print\n",
    "    global world_access\n",
    "    global world_reward\n",
    "    i = 0\n",
    "    for row in json_data['world']:\n",
    "        j = 0\n",
    "        for cell in row['row']:\n",
    "            world_print[i][j]= cell['cell'][0]\n",
    "            world_access[i][j]= cell['cell'][1]\n",
    "            world_reward[i][j]= cell['cell'][2]\n",
    "            j=j+1\n",
    "        i=i+1\n",
    "        \n",
    "\n",
    "initializeWorld(json_data)\n",
    "print(\"World\")    \n",
    "printWorld(world_print)\n",
    "print(\"Accessibility\")\n",
    "printWorld(world_access)\n",
    "print(\"Default rewards\")\n",
    "printWorld(world_reward)"
   ]
  },
  {
   "cell_type": "markdown",
   "metadata": {
    "collapsed": true
   },
   "source": [
    "### Calculation methods for all possible steps"
   ]
  },
  {
   "cell_type": "code",
   "execution_count": 27,
   "metadata": {},
   "outputs": [],
   "source": [
    "def up(y_coord, x_coord):\n",
    "    global world_access\n",
    "    global world_reward\n",
    "    \n",
    "    if(y_coord == 0 or world_access[y_coord - 1][x_coord] < 0):\n",
    "        return world_reward[y_coord][x_coord]\n",
    "    return world_reward[y_coord -1][x_coord]\n",
    "    \n",
    "def down(y_coord, x_coord):\n",
    "    global world_access\n",
    "    global world_reward\n",
    "    \n",
    "    if(y_coord == size_y - 1 or world_access[y_coord + 1][x_coord] < 0):\n",
    "        return world_reward[y_coord][x_coord]\n",
    "    return world_reward[y_coord + 1][x_coord]\n",
    "\n",
    "\n",
    "def left(y_coord, x_coord):\n",
    "    global world_access\n",
    "    global world_reward\n",
    "    \n",
    "    if(x_coord == 0 or world_access[y_coord][x_coord - 1] < 0):\n",
    "        return world_reward[y_coord][x_coord]\n",
    "    return world_reward[y_coord][x_coord - 1]\n",
    "\n",
    "\n",
    "def right(y_coord, x_coord):\n",
    "    global world_access\n",
    "    global world_reward\n",
    "    \n",
    "    if(x_coord == size_x - 1 or world_access[y_coord ][x_coord + 1] < 0):\n",
    "        return world_reward[y_coord][x_coord]\n",
    "    return world_reward[y_coord][x_coord + 1]"
   ]
  },
  {
   "cell_type": "markdown",
   "metadata": {
    "collapsed": true
   },
   "source": [
    "### Helpfunction to find the lowest value"
   ]
  },
  {
   "cell_type": "code",
   "execution_count": 28,
   "metadata": {},
   "outputs": [],
   "source": [
    "def getMinReward():\n",
    "    global world_reward\n",
    "    \n",
    "    rewards = []\n",
    "    for row in world_reward:\n",
    "        rewards.append(min(row))\n",
    "    return min(rewards)"
   ]
  },
  {
   "cell_type": "markdown",
   "metadata": {},
   "source": [
    "### Calculate one iteration step"
   ]
  },
  {
   "cell_type": "code",
   "execution_count": 29,
   "metadata": {},
   "outputs": [],
   "source": [
    "def calcStep():\n",
    "    global world_print\n",
    "    global world_access\n",
    "    global world_reward\n",
    "    global reward_delta\n",
    "    \n",
    "    world_reward_new = []\n",
    "    world_reward_new = world_reward\n",
    "    rew={}\n",
    "    reward_delta = 0\n",
    "    for i in range(len(world_reward_new)):\n",
    "        for j in range(len(world_reward_new[i])):\n",
    "            if(world_access[i][j] == 0):\n",
    "                rew[\"^\"] = prob_success * up(i,j) + prob_fail * left(i,j) + prob_fail * right(i,j)\n",
    "                rew[\"<\"] = prob_success * left(i,j) + prob_fail * up(i,j) + prob_fail * down(i,j)\n",
    "                rew[\"v\"] = prob_success * down(i,j) + prob_fail * left(i,j) + prob_fail * right(i,j)\n",
    "                rew[\">\"] = prob_success * right(i,j) + prob_fail * up(i,j) + prob_fail * down(i,j)\n",
    "                print_symbol, max_value = max(rew.items(), key=operator.itemgetter(1))\n",
    "                world_print[i][j] = print_symbol\n",
    "                delta_temp = abs(world_reward_new[i][j] - (step_cost + gamma * max_value))\n",
    "                if(reward_delta < delta_temp):\n",
    "                    reward_delta = delta_temp\n",
    "                world_reward_new[i][j] = step_cost + gamma * max_value\n",
    "    world_reward = world_reward_new"
   ]
  },
  {
   "cell_type": "markdown",
   "metadata": {},
   "source": [
    "### Iterate until a suiting policy is found"
   ]
  },
  {
   "cell_type": "code",
   "execution_count": 30,
   "metadata": {},
   "outputs": [],
   "source": [
    "def valueIteration():\n",
    "    global world_print\n",
    "    global world_reward\n",
    "    global convergence\n",
    "    global reward_delta\n",
    "    \n",
    "    iteration=1\n",
    "    while(convergence < reward_delta):\n",
    "        calcStep()\n",
    "        print(\"\\nIteration \" + str(iteration))\n",
    "        printWorld(world_reward)\n",
    "        print(\"Größte Belohnungsänderung: \" + str(reward_delta)) \n",
    "        iteration = iteration + 1\n",
    "    print(\"\\nGefundene Policy\")\n",
    "    printWorld(world_print)"
   ]
  },
  {
   "cell_type": "code",
   "execution_count": 34,
   "metadata": {},
   "outputs": [
    {
     "name": "stdout",
     "output_type": "stream",
     "text": [
      "\n",
      "Iteration 1\n",
      "+--------+--------+--------+--------+\n",
      "| -0.04  | -0.04  |  0.36  |  1.00  |\n",
      "+--------+--------+--------+--------+\n",
      "| -0.04  |  0.00  |  0.05  | -1.00  |\n",
      "+--------+--------+--------+--------+\n",
      "| -0.04  | -0.04  | -0.02  | -0.04  |\n",
      "+--------+--------+--------+--------+\n",
      "Größte Belohnungsänderung: 0.36000000000000004\n",
      "\n",
      "Iteration 2\n",
      "+--------+--------+--------+--------+\n",
      "| -0.06  |  0.10  |  0.38  |  1.00  |\n",
      "+--------+--------+--------+--------+\n",
      "| -0.06  |  0.00  |  0.06  | -1.00  |\n",
      "+--------+--------+--------+--------+\n",
      "| -0.06  | -0.05  | -0.02  | -0.06  |\n",
      "+--------+--------+--------+--------+\n",
      "Größte Belohnungsänderung: 0.14\n",
      "\n",
      "Iteration 3\n",
      "+--------+--------+--------+--------+\n",
      "| -0.01  |  0.12  |  0.38  |  1.00  |\n",
      "+--------+--------+--------+--------+\n",
      "| -0.05  |  0.00  |  0.07  | -1.00  |\n",
      "+--------+--------+--------+--------+\n",
      "| -0.06  | -0.05  | -0.02  | -0.07  |\n",
      "+--------+--------+--------+--------+\n",
      "Größte Belohnungsänderung: 0.054\n",
      "\n",
      "Iteration 4\n",
      "+--------+--------+--------+--------+\n",
      "|  0.01  |  0.13  |  0.38  |  1.00  |\n",
      "+--------+--------+--------+--------+\n",
      "| -0.04  |  0.00  |  0.07  | -1.00  |\n",
      "+--------+--------+--------+--------+\n",
      "| -0.06  | -0.05  | -0.02  | -0.07  |\n",
      "+--------+--------+--------+--------+\n",
      "Größte Belohnungsänderung: 0.012192000000000008\n",
      "\n",
      "Iteration 5\n",
      "+--------+--------+--------+--------+\n",
      "|  0.01  |  0.13  |  0.38  |  1.00  |\n",
      "+--------+--------+--------+--------+\n",
      "| -0.04  |  0.00  |  0.07  | -1.00  |\n",
      "+--------+--------+--------+--------+\n",
      "| -0.06  | -0.05  | -0.02  | -0.07  |\n",
      "+--------+--------+--------+--------+\n",
      "Größte Belohnungsänderung: 0.0020560800000000087\n",
      "\n",
      "Iteration 6\n",
      "+--------+--------+--------+--------+\n",
      "|  0.01  |  0.13  |  0.38  |  1.00  |\n",
      "+--------+--------+--------+--------+\n",
      "| -0.04  |  0.00  |  0.07  | -1.00  |\n",
      "+--------+--------+--------+--------+\n",
      "| -0.06  | -0.05  | -0.02  | -0.07  |\n",
      "+--------+--------+--------+--------+\n",
      "Größte Belohnungsänderung: 0.0007681653163715829\n",
      "\n",
      "Iteration 7\n",
      "+--------+--------+--------+--------+\n",
      "|  0.01  |  0.13  |  0.38  |  1.00  |\n",
      "+--------+--------+--------+--------+\n",
      "| -0.04  |  0.00  |  0.07  | -1.00  |\n",
      "+--------+--------+--------+--------+\n",
      "| -0.06  | -0.05  | -0.02  | -0.07  |\n",
      "+--------+--------+--------+--------+\n",
      "Größte Belohnungsänderung: 0.0003477057146401563\n",
      "\n",
      "Iteration 8\n",
      "+--------+--------+--------+--------+\n",
      "|  0.01  |  0.13  |  0.38  |  1.00  |\n",
      "+--------+--------+--------+--------+\n",
      "| -0.04  |  0.00  |  0.07  | -1.00  |\n",
      "+--------+--------+--------+--------+\n",
      "| -0.06  | -0.05  | -0.02  | -0.07  |\n",
      "+--------+--------+--------+--------+\n",
      "Größte Belohnungsänderung: 0.0001573885660119123\n",
      "\n",
      "Iteration 9\n",
      "+--------+--------+--------+--------+\n",
      "|  0.01  |  0.13  |  0.38  |  1.00  |\n",
      "+--------+--------+--------+--------+\n",
      "| -0.04  |  0.00  |  0.07  | -1.00  |\n",
      "+--------+--------+--------+--------+\n",
      "| -0.06  | -0.05  | -0.02  | -0.07  |\n",
      "+--------+--------+--------+--------+\n",
      "Größte Belohnungsänderung: 7.124192021776277e-05\n",
      "\n",
      "Gefundene Policy\n",
      "+--------+--------+--------+--------+\n",
      "|   >    |   >    |   >    |   G    |\n",
      "+--------+--------+--------+--------+\n",
      "|   ^    |   #    |   ^    |   T    |\n",
      "+--------+--------+--------+--------+\n",
      "|   ^    |   >    |   ^    |   v    |\n",
      "+--------+--------+--------+--------+\n"
     ]
    }
   ],
   "source": [
    "valueIteration()"
   ]
  },
  {
   "cell_type": "code",
   "execution_count": null,
   "metadata": {},
   "outputs": [],
   "source": []
  }
 ],
 "metadata": {
  "kernelspec": {
   "display_name": "Python 3",
   "language": "python",
   "name": "python3"
  },
  "language_info": {
   "codemirror_mode": {
    "name": "ipython",
    "version": 3
   },
   "file_extension": ".py",
   "mimetype": "text/x-python",
   "name": "python",
   "nbconvert_exporter": "python",
   "pygments_lexer": "ipython3",
   "version": "3.6.4"
  }
 },
 "nbformat": 4,
 "nbformat_minor": 2
}
